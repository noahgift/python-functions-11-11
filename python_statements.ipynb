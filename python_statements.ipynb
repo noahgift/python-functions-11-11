{
  "nbformat": 4,
  "nbformat_minor": 0,
  "metadata": {
    "colab": {
      "name": "python-statements.ipynb",
      "provenance": [],
      "authorship_tag": "ABX9TyN47kklG5aBw77cMsS3JqRl",
      "include_colab_link": true
    },
    "kernelspec": {
      "name": "python3",
      "display_name": "Python 3"
    },
    "language_info": {
      "name": "python"
    }
  },
  "cells": [
    {
      "cell_type": "markdown",
      "metadata": {
        "id": "view-in-github",
        "colab_type": "text"
      },
      "source": [
        "<a href=\"https://colab.research.google.com/github/noahgift/python-functions-11-11/blob/main/python_statements.ipynb\" target=\"_parent\"><img src=\"https://colab.research.google.com/assets/colab-badge.svg\" alt=\"Open In Colab\"/></a>"
      ]
    },
    {
      "cell_type": "markdown",
      "metadata": {
        "id": "u73UeyHfH5Nu"
      },
      "source": [
        "## Introduction to Statements\n"
      ]
    },
    {
      "cell_type": "code",
      "metadata": {
        "colab": {
          "base_uri": "https://localhost:8080/"
        },
        "id": "ZxAbj8gaHwY2",
        "outputId": "016f82b6-542b-4bf1-fccb-4b07470ef3ba"
      },
      "source": [
        "print(\"Hello World\")"
      ],
      "execution_count": 1,
      "outputs": [
        {
          "output_type": "stream",
          "name": "stdout",
          "text": [
            "Hello World\n"
          ]
        }
      ]
    },
    {
      "cell_type": "code",
      "metadata": {
        "id": "rjbaHYPtIBGf"
      },
      "source": [
        ""
      ],
      "execution_count": null,
      "outputs": []
    },
    {
      "cell_type": "markdown",
      "metadata": {
        "id": "DWUFB35rIK0A"
      },
      "source": [
        "### Defining Variables"
      ]
    },
    {
      "cell_type": "code",
      "metadata": {
        "id": "ObPJYJrsIMpc"
      },
      "source": [
        "x = 1"
      ],
      "execution_count": 3,
      "outputs": []
    },
    {
      "cell_type": "code",
      "metadata": {
        "id": "WgtCXvOeINgh"
      },
      "source": [
        ""
      ],
      "execution_count": null,
      "outputs": []
    },
    {
      "cell_type": "markdown",
      "metadata": {
        "id": "nGLJuZOhIRF9"
      },
      "source": [
        "### More interesting Facts about Statements"
      ]
    },
    {
      "cell_type": "code",
      "metadata": {
        "colab": {
          "base_uri": "https://localhost:8080/"
        },
        "id": "AZnOTHOyIUTa",
        "outputId": "0e45425c-8a11-4619-e728-f35b192eca83"
      },
      "source": [
        "var = 1\n",
        "var2 = 2\n",
        "var + var2"
      ],
      "execution_count": 4,
      "outputs": [
        {
          "output_type": "execute_result",
          "data": {
            "text/plain": [
              "3"
            ]
          },
          "metadata": {},
          "execution_count": 4
        }
      ]
    },
    {
      "cell_type": "code",
      "metadata": {
        "id": "202f3rKzIYmD"
      },
      "source": [
        ""
      ],
      "execution_count": null,
      "outputs": []
    },
    {
      "cell_type": "markdown",
      "metadata": {
        "id": "v4TZ2ayvK1O_"
      },
      "source": [
        "## Loops"
      ]
    },
    {
      "cell_type": "code",
      "metadata": {
        "colab": {
          "base_uri": "https://localhost:8080/"
        },
        "id": "gPSxvTJOK42I",
        "outputId": "e7cd04c7-e979-415e-bed0-8b5d3e58e0dd"
      },
      "source": [
        "for i in range(10):\n",
        "    print(f\"This is the loop number: {i}\")"
      ],
      "execution_count": 5,
      "outputs": [
        {
          "output_type": "stream",
          "name": "stdout",
          "text": [
            "This is the loop number: 0\n",
            "This is the loop number: 1\n",
            "This is the loop number: 2\n",
            "This is the loop number: 3\n",
            "This is the loop number: 4\n",
            "This is the loop number: 5\n",
            "This is the loop number: 6\n",
            "This is the loop number: 7\n",
            "This is the loop number: 8\n",
            "This is the loop number: 9\n"
          ]
        }
      ]
    },
    {
      "cell_type": "code",
      "metadata": {
        "id": "JtJm6U0ELHDf"
      },
      "source": [
        ""
      ],
      "execution_count": null,
      "outputs": []
    },
    {
      "cell_type": "markdown",
      "metadata": {
        "id": "2SILebQPLQ3A"
      },
      "source": [
        "### List"
      ]
    },
    {
      "cell_type": "code",
      "metadata": {
        "id": "9R1fE5DkLSJu"
      },
      "source": [
        "my_basket = [\"eggs\", \"butter\", \"apple\"]"
      ],
      "execution_count": 6,
      "outputs": []
    },
    {
      "cell_type": "code",
      "metadata": {
        "colab": {
          "base_uri": "https://localhost:8080/"
        },
        "id": "TDMRDK36LgGU",
        "outputId": "4c0ec051-83f1-4eb7-f33b-c49d83ccba03"
      },
      "source": [
        "len(my_basket)"
      ],
      "execution_count": 7,
      "outputs": [
        {
          "output_type": "execute_result",
          "data": {
            "text/plain": [
              "3"
            ]
          },
          "metadata": {},
          "execution_count": 7
        }
      ]
    },
    {
      "cell_type": "code",
      "metadata": {
        "colab": {
          "base_uri": "https://localhost:8080/"
        },
        "id": "Ub63BycLLlj0",
        "outputId": "e0d0fe8b-9516-454c-9f03-cfde4bdce88a"
      },
      "source": [
        "for food in my_basket:\n",
        "    print(f\"I am hungry and I am going to eat: {food}\")"
      ],
      "execution_count": 8,
      "outputs": [
        {
          "output_type": "stream",
          "name": "stdout",
          "text": [
            "I am hungry and I am going to eat: eggs\n",
            "I am hungry and I am going to eat: butter\n",
            "I am hungry and I am going to eat: apple\n"
          ]
        }
      ]
    },
    {
      "cell_type": "markdown",
      "metadata": {
        "id": "NVlsjP13L_P0"
      },
      "source": [
        "### Dictionary"
      ]
    },
    {
      "cell_type": "code",
      "metadata": {
        "id": "Q8iQX5T2MZUX"
      },
      "source": [
        "my_dict = {\"one\": \"apple\", \"two\": \"eggs\", \"three\": \"butter\"}"
      ],
      "execution_count": 9,
      "outputs": []
    },
    {
      "cell_type": "code",
      "metadata": {
        "colab": {
          "base_uri": "https://localhost:8080/"
        },
        "id": "YAKdYFnrMnGc",
        "outputId": "1a0fccd4-6959-457f-ed25-278aad6605c2"
      },
      "source": [
        "len(my_dict)"
      ],
      "execution_count": 10,
      "outputs": [
        {
          "output_type": "execute_result",
          "data": {
            "text/plain": [
              "3"
            ]
          },
          "metadata": {},
          "execution_count": 10
        }
      ]
    },
    {
      "cell_type": "code",
      "metadata": {
        "colab": {
          "base_uri": "https://localhost:8080/"
        },
        "id": "7YH2PDrSMq3N",
        "outputId": "5f19d512-66f9-413e-b876-16426bc1b4da"
      },
      "source": [
        "my_dict.keys()"
      ],
      "execution_count": 11,
      "outputs": [
        {
          "output_type": "execute_result",
          "data": {
            "text/plain": [
              "dict_keys(['one', 'two', 'three'])"
            ]
          },
          "metadata": {},
          "execution_count": 11
        }
      ]
    },
    {
      "cell_type": "code",
      "metadata": {
        "colab": {
          "base_uri": "https://localhost:8080/",
          "height": 35
        },
        "id": "v2K7-E_wMyX7",
        "outputId": "e9442234-100c-4826-c540-bc84bfcba918"
      },
      "source": [
        "my_dict[\"one\"]"
      ],
      "execution_count": 12,
      "outputs": [
        {
          "output_type": "execute_result",
          "data": {
            "application/vnd.google.colaboratory.intrinsic+json": {
              "type": "string"
            },
            "text/plain": [
              "'apple'"
            ]
          },
          "metadata": {},
          "execution_count": 12
        }
      ]
    },
    {
      "cell_type": "markdown",
      "metadata": {
        "id": "JvjO6_wjNG4W"
      },
      "source": [
        "O(1) Lookup"
      ]
    },
    {
      "cell_type": "code",
      "metadata": {
        "colab": {
          "base_uri": "https://localhost:8080/"
        },
        "id": "F46bUf3MM7FE",
        "outputId": "a0c17fa3-48b8-43fd-bb1c-989326383009"
      },
      "source": [
        "\"one\" in my_dict"
      ],
      "execution_count": 13,
      "outputs": [
        {
          "output_type": "execute_result",
          "data": {
            "text/plain": [
              "True"
            ]
          },
          "metadata": {},
          "execution_count": 13
        }
      ]
    },
    {
      "cell_type": "code",
      "metadata": {
        "colab": {
          "base_uri": "https://localhost:8080/"
        },
        "id": "YMsJu40TNEgx",
        "outputId": "3e647746-06cb-4cbb-d8ec-c9f63a7b4922"
      },
      "source": [
        "\"five\" in my_dict"
      ],
      "execution_count": 14,
      "outputs": [
        {
          "output_type": "execute_result",
          "data": {
            "text/plain": [
              "False"
            ]
          },
          "metadata": {},
          "execution_count": 14
        }
      ]
    },
    {
      "cell_type": "code",
      "metadata": {
        "colab": {
          "base_uri": "https://localhost:8080/"
        },
        "id": "OlyCZZQgNNM4",
        "outputId": "ab750d1d-9a1a-476e-9337-36b256c41fb4"
      },
      "source": [
        "my_dict.values()"
      ],
      "execution_count": 15,
      "outputs": [
        {
          "output_type": "execute_result",
          "data": {
            "text/plain": [
              "dict_values(['apple', 'eggs', 'butter'])"
            ]
          },
          "metadata": {},
          "execution_count": 15
        }
      ]
    },
    {
      "cell_type": "markdown",
      "metadata": {
        "id": "H-JASRudNULE"
      },
      "source": [
        "Looping with dictionary"
      ]
    },
    {
      "cell_type": "code",
      "metadata": {
        "colab": {
          "base_uri": "https://localhost:8080/"
        },
        "id": "m3AAlwyoNRy1",
        "outputId": "63c64cfe-5d25-42ad-aa01-a248d9648a36"
      },
      "source": [
        "for number, food in my_dict.items():\n",
        "    print(f\"This is {number}: This is food {food}\")"
      ],
      "execution_count": 19,
      "outputs": [
        {
          "output_type": "stream",
          "name": "stdout",
          "text": [
            "This is one: This is food apple\n",
            "This is two: This is food eggs\n",
            "This is three: This is food butter\n"
          ]
        }
      ]
    },
    {
      "cell_type": "code",
      "metadata": {
        "id": "H_80IAk3NmA1"
      },
      "source": [
        ""
      ],
      "execution_count": null,
      "outputs": []
    },
    {
      "cell_type": "markdown",
      "metadata": {
        "id": "SskqkG62OBQb"
      },
      "source": [
        "## Math Statements"
      ]
    },
    {
      "cell_type": "markdown",
      "metadata": {
        "id": "vCgMapcOOFNw"
      },
      "source": [
        "Use Python as a calculator to learn it"
      ]
    },
    {
      "cell_type": "code",
      "metadata": {
        "colab": {
          "base_uri": "https://localhost:8080/"
        },
        "id": "9atxcqbcODy6",
        "outputId": "54ec1d1c-66e5-4c26-d4d6-dcc52cb3ce0e"
      },
      "source": [
        "1+1 "
      ],
      "execution_count": 20,
      "outputs": [
        {
          "output_type": "execute_result",
          "data": {
            "text/plain": [
              "2"
            ]
          },
          "metadata": {},
          "execution_count": 20
        }
      ]
    },
    {
      "cell_type": "code",
      "metadata": {
        "colab": {
          "base_uri": "https://localhost:8080/"
        },
        "id": "NgQzUP7vOOQq",
        "outputId": "3fc8ca45-92a2-4d6a-bfa5-9754cec66f2e"
      },
      "source": [
        "100 * .20"
      ],
      "execution_count": 21,
      "outputs": [
        {
          "output_type": "execute_result",
          "data": {
            "text/plain": [
              "20.0"
            ]
          },
          "metadata": {},
          "execution_count": 21
        }
      ]
    },
    {
      "cell_type": "code",
      "metadata": {
        "colab": {
          "base_uri": "https://localhost:8080/"
        },
        "id": "NAABw3TtORiY",
        "outputId": "c45ee202-600a-4551-cd76-df8e43b17b3b"
      },
      "source": [
        "2**2"
      ],
      "execution_count": 22,
      "outputs": [
        {
          "output_type": "execute_result",
          "data": {
            "text/plain": [
              "4"
            ]
          },
          "metadata": {},
          "execution_count": 22
        }
      ]
    },
    {
      "cell_type": "code",
      "metadata": {
        "id": "kFBrB1tZOUXa"
      },
      "source": [
        ""
      ],
      "execution_count": null,
      "outputs": []
    },
    {
      "cell_type": "markdown",
      "metadata": {
        "id": "6zNEZ4CnOagN"
      },
      "source": [
        "Real-world math problem"
      ]
    },
    {
      "cell_type": "code",
      "metadata": {
        "id": "IJhucYTUOcKf"
      },
      "source": [
        "expenses = [5, 90, 200, 2000]"
      ],
      "execution_count": 23,
      "outputs": []
    },
    {
      "cell_type": "code",
      "metadata": {
        "colab": {
          "base_uri": "https://localhost:8080/"
        },
        "id": "SSRZzkU4OjUR",
        "outputId": "7975a169-c22e-4cb5-9aec-1f8cb3316674"
      },
      "source": [
        "total = 0\n",
        "for expense in expenses:\n",
        "    total += expense\n",
        "    print(f\"Adding the following expenses: TOTAL {total}, EXPENSE {expense}\")"
      ],
      "execution_count": 24,
      "outputs": [
        {
          "output_type": "stream",
          "name": "stdout",
          "text": [
            "Adding the following expenses: TOTAL 5, EXPENSE 5\n",
            "Adding the following expenses: TOTAL 95, EXPENSE 90\n",
            "Adding the following expenses: TOTAL 295, EXPENSE 200\n",
            "Adding the following expenses: TOTAL 2295, EXPENSE 2000\n"
          ]
        }
      ]
    },
    {
      "cell_type": "code",
      "metadata": {
        "id": "BZCJE6sqO90L"
      },
      "source": [
        ""
      ],
      "execution_count": null,
      "outputs": []
    }
  ]
}