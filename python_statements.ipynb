{
  "nbformat": 4,
  "nbformat_minor": 0,
  "metadata": {
    "colab": {
      "name": "python-statements.ipynb",
      "provenance": [],
      "authorship_tag": "ABX9TyPYRjmPW3a1E22orifsOa8W",
      "include_colab_link": true
    },
    "kernelspec": {
      "name": "python3",
      "display_name": "Python 3"
    },
    "language_info": {
      "name": "python"
    }
  },
  "cells": [
    {
      "cell_type": "markdown",
      "metadata": {
        "id": "view-in-github",
        "colab_type": "text"
      },
      "source": [
        "<a href=\"https://colab.research.google.com/github/noahgift/python-functions-11-11/blob/main/python_statements.ipynb\" target=\"_parent\"><img src=\"https://colab.research.google.com/assets/colab-badge.svg\" alt=\"Open In Colab\"/></a>"
      ]
    },
    {
      "cell_type": "markdown",
      "metadata": {
        "id": "u73UeyHfH5Nu"
      },
      "source": [
        "## Introduction to Statements\n"
      ]
    },
    {
      "cell_type": "code",
      "metadata": {
        "colab": {
          "base_uri": "https://localhost:8080/"
        },
        "id": "ZxAbj8gaHwY2",
        "outputId": "016f82b6-542b-4bf1-fccb-4b07470ef3ba"
      },
      "source": [
        "print(\"Hello World\")"
      ],
      "execution_count": 1,
      "outputs": [
        {
          "output_type": "stream",
          "name": "stdout",
          "text": [
            "Hello World\n"
          ]
        }
      ]
    },
    {
      "cell_type": "code",
      "metadata": {
        "id": "rjbaHYPtIBGf"
      },
      "source": [
        ""
      ],
      "execution_count": null,
      "outputs": []
    },
    {
      "cell_type": "markdown",
      "metadata": {
        "id": "DWUFB35rIK0A"
      },
      "source": [
        "### Defining Variables"
      ]
    },
    {
      "cell_type": "code",
      "metadata": {
        "id": "ObPJYJrsIMpc"
      },
      "source": [
        "x = 1"
      ],
      "execution_count": 3,
      "outputs": []
    },
    {
      "cell_type": "code",
      "metadata": {
        "id": "WgtCXvOeINgh"
      },
      "source": [
        ""
      ],
      "execution_count": null,
      "outputs": []
    },
    {
      "cell_type": "markdown",
      "metadata": {
        "id": "nGLJuZOhIRF9"
      },
      "source": [
        "### More interesting Facts about Statements"
      ]
    },
    {
      "cell_type": "code",
      "metadata": {
        "colab": {
          "base_uri": "https://localhost:8080/"
        },
        "id": "AZnOTHOyIUTa",
        "outputId": "0e45425c-8a11-4619-e728-f35b192eca83"
      },
      "source": [
        "var = 1\n",
        "var2 = 2\n",
        "var + var2"
      ],
      "execution_count": 4,
      "outputs": [
        {
          "output_type": "execute_result",
          "data": {
            "text/plain": [
              "3"
            ]
          },
          "metadata": {},
          "execution_count": 4
        }
      ]
    },
    {
      "cell_type": "code",
      "metadata": {
        "id": "202f3rKzIYmD"
      },
      "source": [
        ""
      ],
      "execution_count": null,
      "outputs": []
    },
    {
      "cell_type": "markdown",
      "metadata": {
        "id": "v4TZ2ayvK1O_"
      },
      "source": [
        "## Loops"
      ]
    },
    {
      "cell_type": "code",
      "metadata": {
        "colab": {
          "base_uri": "https://localhost:8080/"
        },
        "id": "gPSxvTJOK42I",
        "outputId": "e7cd04c7-e979-415e-bed0-8b5d3e58e0dd"
      },
      "source": [
        "for i in range(10):\n",
        "    print(f\"This is the loop number: {i}\")"
      ],
      "execution_count": 5,
      "outputs": [
        {
          "output_type": "stream",
          "name": "stdout",
          "text": [
            "This is the loop number: 0\n",
            "This is the loop number: 1\n",
            "This is the loop number: 2\n",
            "This is the loop number: 3\n",
            "This is the loop number: 4\n",
            "This is the loop number: 5\n",
            "This is the loop number: 6\n",
            "This is the loop number: 7\n",
            "This is the loop number: 8\n",
            "This is the loop number: 9\n"
          ]
        }
      ]
    },
    {
      "cell_type": "code",
      "metadata": {
        "id": "JtJm6U0ELHDf"
      },
      "source": [
        ""
      ],
      "execution_count": null,
      "outputs": []
    },
    {
      "cell_type": "markdown",
      "metadata": {
        "id": "2SILebQPLQ3A"
      },
      "source": [
        "### List"
      ]
    },
    {
      "cell_type": "code",
      "metadata": {
        "id": "9R1fE5DkLSJu"
      },
      "source": [
        "my_basket = [\"eggs\", \"butter\", \"apple\"]"
      ],
      "execution_count": 6,
      "outputs": []
    },
    {
      "cell_type": "code",
      "metadata": {
        "colab": {
          "base_uri": "https://localhost:8080/"
        },
        "id": "TDMRDK36LgGU",
        "outputId": "4c0ec051-83f1-4eb7-f33b-c49d83ccba03"
      },
      "source": [
        "len(my_basket)"
      ],
      "execution_count": 7,
      "outputs": [
        {
          "output_type": "execute_result",
          "data": {
            "text/plain": [
              "3"
            ]
          },
          "metadata": {},
          "execution_count": 7
        }
      ]
    },
    {
      "cell_type": "code",
      "metadata": {
        "colab": {
          "base_uri": "https://localhost:8080/"
        },
        "id": "Ub63BycLLlj0",
        "outputId": "e0d0fe8b-9516-454c-9f03-cfde4bdce88a"
      },
      "source": [
        "for food in my_basket:\n",
        "    print(f\"I am hungry and I am going to eat: {food}\")"
      ],
      "execution_count": 8,
      "outputs": [
        {
          "output_type": "stream",
          "name": "stdout",
          "text": [
            "I am hungry and I am going to eat: eggs\n",
            "I am hungry and I am going to eat: butter\n",
            "I am hungry and I am going to eat: apple\n"
          ]
        }
      ]
    },
    {
      "cell_type": "markdown",
      "metadata": {
        "id": "NVlsjP13L_P0"
      },
      "source": [
        ""
      ]
    }
  ]
}