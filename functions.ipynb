{
  "nbformat": 4,
  "nbformat_minor": 0,
  "metadata": {
    "colab": {
      "name": "functions.ipynb",
      "provenance": [],
      "collapsed_sections": [],
      "authorship_tag": "ABX9TyO1hxI1z3BR5ckmpyiqqJT8",
      "include_colab_link": true
    },
    "kernelspec": {
      "name": "python3",
      "display_name": "Python 3"
    },
    "language_info": {
      "name": "python"
    }
  },
  "cells": [
    {
      "cell_type": "markdown",
      "metadata": {
        "id": "view-in-github",
        "colab_type": "text"
      },
      "source": [
        "<a href=\"https://colab.research.google.com/github/noahgift/python-functions-11-11/blob/main/functions.ipynb\" target=\"_parent\"><img src=\"https://colab.research.google.com/assets/colab-badge.svg\" alt=\"Open In Colab\"/></a>"
      ]
    },
    {
      "cell_type": "markdown",
      "metadata": {
        "id": "lTwVoVoWTzuY"
      },
      "source": [
        "## Getting started with Functions"
      ]
    },
    {
      "cell_type": "markdown",
      "metadata": {
        "id": "YcPMEf6WXQza"
      },
      "source": [
        "![functions](https://user-images.githubusercontent.com/58792/141313343-6c8cd0f0-b6b0-4e36-87d1-4ff98543d993.png)"
      ]
    },
    {
      "cell_type": "code",
      "metadata": {
        "id": "Si6Rd6AQTwvZ"
      },
      "source": [
        "var = 1"
      ],
      "execution_count": null,
      "outputs": []
    },
    {
      "cell_type": "code",
      "metadata": {
        "id": "6GAPkIrmT7ml"
      },
      "source": [
        "def simple_function(): pass"
      ],
      "execution_count": null,
      "outputs": []
    },
    {
      "cell_type": "code",
      "metadata": {
        "id": "EVX9wNIUUDYr"
      },
      "source": [
        "def simple_function2():\n",
        "    return 1"
      ],
      "execution_count": null,
      "outputs": []
    },
    {
      "cell_type": "code",
      "metadata": {
        "colab": {
          "base_uri": "https://localhost:8080/"
        },
        "id": "r5LVt0ZqUJLc",
        "outputId": "4e531b78-cec2-4bb5-da29-2adef59f538a"
      },
      "source": [
        "simple_function2()"
      ],
      "execution_count": null,
      "outputs": [
        {
          "output_type": "execute_result",
          "data": {
            "text/plain": [
              "1"
            ]
          },
          "metadata": {},
          "execution_count": 4
        }
      ]
    },
    {
      "cell_type": "markdown",
      "metadata": {
        "id": "rcNAFY6FUQmj"
      },
      "source": [
        "Put things into the function"
      ]
    },
    {
      "cell_type": "code",
      "metadata": {
        "id": "Rz14gFNTUMTi"
      },
      "source": [
        "def add(x,y):\n",
        "    return x+y"
      ],
      "execution_count": null,
      "outputs": []
    },
    {
      "cell_type": "code",
      "metadata": {
        "colab": {
          "base_uri": "https://localhost:8080/"
        },
        "id": "CKd96UyFUaZW",
        "outputId": "d6d35c49-ea90-4a1b-e252-0ec067abfcbe"
      },
      "source": [
        "add(1,1)"
      ],
      "execution_count": null,
      "outputs": [
        {
          "output_type": "execute_result",
          "data": {
            "text/plain": [
              "2"
            ]
          },
          "metadata": {},
          "execution_count": 6
        }
      ]
    },
    {
      "cell_type": "code",
      "metadata": {
        "colab": {
          "base_uri": "https://localhost:8080/"
        },
        "id": "-0QVquTJUbad",
        "outputId": "e1a040bf-3012-492e-b34d-3c77bdc0af0a"
      },
      "source": [
        "add(2,2)"
      ],
      "execution_count": null,
      "outputs": [
        {
          "output_type": "execute_result",
          "data": {
            "text/plain": [
              "4"
            ]
          },
          "metadata": {},
          "execution_count": 7
        }
      ]
    },
    {
      "cell_type": "code",
      "metadata": {
        "id": "uXOtg_kLU0Wv"
      },
      "source": [
        "foods = [\"apple\", \"eggs\", \"butter\"]"
      ],
      "execution_count": null,
      "outputs": []
    },
    {
      "cell_type": "code",
      "metadata": {
        "id": "wUbh8NbPUgIM"
      },
      "source": [
        "def complicated_function(my_food):\n",
        "    \n",
        "    total = len(my_food)\n",
        "    print(f\"I am very hungry and I am ready to eat: {total} foods!\")\n",
        "    for food in my_food:\n",
        "        print(f\"I love to wake up and eat: {food}\")\n",
        "        \n",
        "    "
      ],
      "execution_count": null,
      "outputs": []
    },
    {
      "cell_type": "code",
      "metadata": {
        "colab": {
          "base_uri": "https://localhost:8080/"
        },
        "id": "d6mCJRCtUzaw",
        "outputId": "ab08ea8e-fcea-403e-c1c1-4f3e41cd9091"
      },
      "source": [
        "complicated_function(foods)"
      ],
      "execution_count": null,
      "outputs": [
        {
          "output_type": "stream",
          "name": "stdout",
          "text": [
            "I am very hungry and I am ready to eat: 3 foods!\n",
            "I love to wake up and eat: apple\n",
            "I love to wake up and eat: eggs\n",
            "I love to wake up and eat: butter\n"
          ]
        }
      ]
    },
    {
      "cell_type": "code",
      "metadata": {
        "colab": {
          "base_uri": "https://localhost:8080/"
        },
        "id": "iYeyTe9TVWYI",
        "outputId": "35ad2875-ddb4-4bc8-b120-1172ec6731df"
      },
      "source": [
        "complicated_function([\"steak\", \"ham\", \"bacon\"])"
      ],
      "execution_count": null,
      "outputs": [
        {
          "output_type": "stream",
          "name": "stdout",
          "text": [
            "I am very hungry and I am ready to eat: 3 foods!\n",
            "I love to wake up and eat: steak\n",
            "I love to wake up and eat: ham\n",
            "I love to wake up and eat: bacon\n"
          ]
        }
      ]
    },
    {
      "cell_type": "code",
      "metadata": {
        "id": "lWJsr7iCVhcd"
      },
      "source": [
        ""
      ],
      "execution_count": null,
      "outputs": []
    },
    {
      "cell_type": "markdown",
      "metadata": {
        "id": "7kS1EkbPXWcd"
      },
      "source": [
        "## Exotic items with Python Functions"
      ]
    },
    {
      "cell_type": "code",
      "metadata": {
        "id": "GmCUeeHyXa7H"
      },
      "source": [
        "#nonlocal cannot modify this variable\n",
        "#lower_body_counter=5\n",
        "def attack_counter():\n",
        "    \"\"\"Counts number of attacks on part of body\"\"\"\n",
        "    lower_body_counter = 0\n",
        "    upper_body_counter = 0\n",
        "    #print(lower_body_counter)\n",
        "    def attack_filter(attack):\n",
        "        nonlocal lower_body_counter\n",
        "        nonlocal upper_body_counter\n",
        "        attacks = {\"kimura\": \"upper_body\",\n",
        "           \"straight_ankle_lock\":\"lower_body\", \n",
        "           \"arm_triangle\":\"upper_body\",\n",
        "            \"keylock\": \"upper_body\",\n",
        "            \"knee_bar\": \"lower_body\"}\n",
        "        if attack in attacks:\n",
        "            if attacks[attack] == \"upper_body\":\n",
        "                upper_body_counter +=1\n",
        "            if attacks[attack] == \"lower_body\":\n",
        "                lower_body_counter +=1\n",
        "        print(f\"Upper Body Attacks {upper_body_counter}, Lower Body Attacks {lower_body_counter}\")\n",
        "    return attack_filter"
      ],
      "execution_count": null,
      "outputs": []
    },
    {
      "cell_type": "code",
      "metadata": {
        "id": "YBs8fRT_XfBY"
      },
      "source": [
        "fight = attack_counter()"
      ],
      "execution_count": null,
      "outputs": []
    },
    {
      "cell_type": "code",
      "metadata": {
        "colab": {
          "base_uri": "https://localhost:8080/"
        },
        "id": "ZlQFySf4X24h",
        "outputId": "0ba98a17-face-48f3-f079-4c67888f7178"
      },
      "source": [
        "type(fight)"
      ],
      "execution_count": null,
      "outputs": [
        {
          "output_type": "execute_result",
          "data": {
            "text/plain": [
              "function"
            ]
          },
          "metadata": {},
          "execution_count": 16
        }
      ]
    },
    {
      "cell_type": "code",
      "metadata": {
        "colab": {
          "base_uri": "https://localhost:8080/"
        },
        "id": "YZ35ZVsNX36a",
        "outputId": "16ebc81c-55b3-40e1-c90b-fb50291b13a9"
      },
      "source": [
        "fight(\"kimura\")"
      ],
      "execution_count": null,
      "outputs": [
        {
          "output_type": "stream",
          "name": "stdout",
          "text": [
            "Upper Body Attacks 1, Lower Body Attacks 0\n"
          ]
        }
      ]
    },
    {
      "cell_type": "code",
      "metadata": {
        "colab": {
          "base_uri": "https://localhost:8080/"
        },
        "id": "SbsMiVhVX8rh",
        "outputId": "fca1add4-f5bb-4d83-97cf-5f0876e958fb"
      },
      "source": [
        "fight(\"kimura\")"
      ],
      "execution_count": null,
      "outputs": [
        {
          "output_type": "stream",
          "name": "stdout",
          "text": [
            "Upper Body Attacks 2, Lower Body Attacks 0\n"
          ]
        }
      ]
    },
    {
      "cell_type": "code",
      "metadata": {
        "colab": {
          "base_uri": "https://localhost:8080/"
        },
        "id": "SO12fyBMX_9w",
        "outputId": "8e5d071e-fa88-4a67-ddbc-bb4e7a580487"
      },
      "source": [
        "fight(\"knee_bar\")"
      ],
      "execution_count": null,
      "outputs": [
        {
          "output_type": "stream",
          "name": "stdout",
          "text": [
            "Upper Body Attacks 2, Lower Body Attacks 1\n"
          ]
        }
      ]
    },
    {
      "cell_type": "code",
      "metadata": {
        "id": "7G7tpecDYDG4"
      },
      "source": [
        ""
      ],
      "execution_count": null,
      "outputs": []
    },
    {
      "cell_type": "markdown",
      "metadata": {
        "id": "rnMGKbhsYJRB"
      },
      "source": [
        "### Partial Function"
      ]
    },
    {
      "cell_type": "code",
      "metadata": {
        "colab": {
          "base_uri": "https://localhost:8080/"
        },
        "id": "vI6SVGpnYMPn",
        "outputId": "846bc622-46ee-4f3e-f484-2c1b1e1ae650"
      },
      "source": [
        "from functools import partial\n",
        "\n",
        "def multiple_attacks(attack_one, attack_two):\n",
        "  \"\"\"Performs two attacks\"\"\"\n",
        "  \n",
        "  print(f\"First Attack {attack_one}\")\n",
        "  print(f\"Second Attack {attack_two}\")\n",
        "  \n",
        "attack_this = partial(multiple_attacks, \"kimura\")\n",
        "type(attack_this)"
      ],
      "execution_count": null,
      "outputs": [
        {
          "output_type": "execute_result",
          "data": {
            "text/plain": [
              "functools.partial"
            ]
          },
          "metadata": {},
          "execution_count": 20
        }
      ]
    },
    {
      "cell_type": "code",
      "metadata": {
        "colab": {
          "base_uri": "https://localhost:8080/",
          "height": 167
        },
        "id": "fXFQAuc0YMtF",
        "outputId": "606bb914-7e53-4280-904d-394c4728eda9"
      },
      "source": [
        "multiple_attacks(\"kimura\")"
      ],
      "execution_count": null,
      "outputs": [
        {
          "output_type": "error",
          "ename": "TypeError",
          "evalue": "ignored",
          "traceback": [
            "\u001b[0;31m---------------------------------------------------------------------------\u001b[0m",
            "\u001b[0;31mTypeError\u001b[0m                                 Traceback (most recent call last)",
            "\u001b[0;32m<ipython-input-21-88dc4078296b>\u001b[0m in \u001b[0;36m<module>\u001b[0;34m()\u001b[0m\n\u001b[0;32m----> 1\u001b[0;31m \u001b[0mmultiple_attacks\u001b[0m\u001b[0;34m(\u001b[0m\u001b[0;34m\"kimura\"\u001b[0m\u001b[0;34m)\u001b[0m\u001b[0;34m\u001b[0m\u001b[0;34m\u001b[0m\u001b[0m\n\u001b[0m",
            "\u001b[0;31mTypeError\u001b[0m: multiple_attacks() missing 1 required positional argument: 'attack_two'"
          ]
        }
      ]
    },
    {
      "cell_type": "code",
      "metadata": {
        "id": "yuxLvu2kYW9b"
      },
      "source": [
        "attack_this = partial(multiple_attacks, \"kimura\")"
      ],
      "execution_count": null,
      "outputs": []
    },
    {
      "cell_type": "code",
      "metadata": {
        "colab": {
          "base_uri": "https://localhost:8080/"
        },
        "id": "uFh-D9CeYaRa",
        "outputId": "c6c7807d-4478-4efc-8bf2-3d7b04125052"
      },
      "source": [
        "attack_this(\"arm_bar\")"
      ],
      "execution_count": null,
      "outputs": [
        {
          "output_type": "stream",
          "name": "stdout",
          "text": [
            "First Attack kimura\n",
            "Second Attack arm_bar\n"
          ]
        }
      ]
    },
    {
      "cell_type": "code",
      "metadata": {
        "id": "6uT1ZX8NYeXK"
      },
      "source": [
        ""
      ],
      "execution_count": null,
      "outputs": []
    },
    {
      "cell_type": "markdown",
      "metadata": {
        "id": "8a0z5nKiYmVt"
      },
      "source": [
        "### Lazy Evaluation"
      ]
    },
    {
      "cell_type": "code",
      "metadata": {
        "id": "zgLswho2Yn8A"
      },
      "source": [
        "huge_list = [1,100,10000]"
      ],
      "execution_count": null,
      "outputs": []
    },
    {
      "cell_type": "code",
      "metadata": {
        "id": "QqpEvDnyYu78"
      },
      "source": [
        "def process():\n",
        "    for num in huge_list:\n",
        "        yield num"
      ],
      "execution_count": null,
      "outputs": []
    },
    {
      "cell_type": "code",
      "metadata": {
        "id": "TTELSIZjY1dU"
      },
      "source": [
        "result = process()"
      ],
      "execution_count": null,
      "outputs": []
    },
    {
      "cell_type": "code",
      "metadata": {
        "colab": {
          "base_uri": "https://localhost:8080/"
        },
        "id": "lt98DWKRY-mh",
        "outputId": "fca3eb21-46bc-4085-842d-068e1676c9ed"
      },
      "source": [
        "type(result)"
      ],
      "execution_count": null,
      "outputs": [
        {
          "output_type": "execute_result",
          "data": {
            "text/plain": [
              "generator"
            ]
          },
          "metadata": {},
          "execution_count": 27
        }
      ]
    },
    {
      "cell_type": "code",
      "metadata": {
        "colab": {
          "base_uri": "https://localhost:8080/"
        },
        "id": "muL9gPamY_Zx",
        "outputId": "999b9160-8077-411e-da0a-cb48d9265c4a"
      },
      "source": [
        "for _ in range(2):\n",
        "    print(next(result))"
      ],
      "execution_count": null,
      "outputs": [
        {
          "output_type": "stream",
          "name": "stdout",
          "text": [
            "1\n",
            "100\n"
          ]
        }
      ]
    },
    {
      "cell_type": "code",
      "metadata": {
        "id": "lgAV0ukxZKMf"
      },
      "source": [
        "def lazy_return_random_attacks():\n",
        "    \"\"\"Yield attacks each time\"\"\"\n",
        "    \n",
        "    import random\n",
        "    attacks = {\"kimura\": \"upper_body\",\n",
        "           \"straight_ankle_lock\":\"lower_body\", \n",
        "           \"arm_triangle\":\"upper_body\",\n",
        "            \"keylock\": \"upper_body\",\n",
        "            \"knee_bar\": \"lower_body\"}\n",
        "    while True:\n",
        "        random_attack = random.choices(list(attacks.keys()))\n",
        "        yield random_attack"
      ],
      "execution_count": null,
      "outputs": []
    },
    {
      "cell_type": "code",
      "metadata": {
        "id": "XoTryX_dZbdT"
      },
      "source": [
        "attack = lazy_return_random_attacks()"
      ],
      "execution_count": null,
      "outputs": []
    },
    {
      "cell_type": "code",
      "metadata": {
        "colab": {
          "base_uri": "https://localhost:8080/"
        },
        "id": "4LpzpHa6Zdwi",
        "outputId": "a9a21dac-05b4-4939-ce08-d265183105e6"
      },
      "source": [
        "type(attack)"
      ],
      "execution_count": null,
      "outputs": [
        {
          "output_type": "execute_result",
          "data": {
            "text/plain": [
              "generator"
            ]
          },
          "metadata": {},
          "execution_count": 31
        }
      ]
    },
    {
      "cell_type": "code",
      "metadata": {
        "colab": {
          "base_uri": "https://localhost:8080/"
        },
        "id": "nMSnJO-TZehz",
        "outputId": "c07a9332-9892-4f07-9441-dc3fd98556c0"
      },
      "source": [
        "for _ in range(3):\n",
        "    print(next(attack))"
      ],
      "execution_count": null,
      "outputs": [
        {
          "output_type": "stream",
          "name": "stdout",
          "text": [
            "['knee_bar']\n",
            "['keylock']\n",
            "['kimura']\n"
          ]
        }
      ]
    },
    {
      "cell_type": "markdown",
      "metadata": {
        "id": "V_tGpPvfaaGQ"
      },
      "source": [
        "### Decorators"
      ]
    },
    {
      "cell_type": "code",
      "metadata": {
        "id": "H9arqtvsZj95"
      },
      "source": [
        "from functools import wraps\n",
        "from time import time\n",
        "\n",
        "def timing(f):\n",
        "    @wraps(f)\n",
        "    def wrap(*args, **kw):\n",
        "        ts = time()\n",
        "        result = f(*args, **kw)\n",
        "        te = time()\n",
        "        print(f\"fun: {f.__name__}, args: [{args}, {kw}] took: {te-ts} sec\")\n",
        "        return result\n",
        "    return wrap"
      ],
      "execution_count": null,
      "outputs": []
    },
    {
      "cell_type": "code",
      "metadata": {
        "colab": {
          "base_uri": "https://localhost:8080/"
        },
        "id": "SQ7ZF4o6aeJ6",
        "outputId": "135fc1fe-05df-4e24-8d04-7bc950773013"
      },
      "source": [
        "@timing\n",
        "def some_attacks(x, y, one=1):\n",
        "  print(f\"These are my variables: {x}, {y}, {one}\")\n",
        "  attack = lazy_return_random_attacks()\n",
        "  for _ in range(5):\n",
        "    print(next(attack))\n",
        "    \n",
        "some_attacks(1,2, one=\"one\")"
      ],
      "execution_count": null,
      "outputs": [
        {
          "output_type": "stream",
          "name": "stdout",
          "text": [
            "These are my variables: 1, 2, one\n",
            "['keylock']\n",
            "['keylock']\n",
            "['arm_triangle']\n",
            "['knee_bar']\n",
            "['keylock']\n",
            "fun: some_attacks, args: [(1, 2), {'one': 'one'}] took: 0.0027747154235839844 sec\n"
          ]
        }
      ]
    },
    {
      "cell_type": "code",
      "metadata": {
        "id": "UvDKy7xGbKQQ"
      },
      "source": [
        ""
      ],
      "execution_count": null,
      "outputs": []
    },
    {
      "cell_type": "markdown",
      "metadata": {
        "id": "sHEqzHSLhA3Y"
      },
      "source": [
        "### Questions"
      ]
    },
    {
      "cell_type": "markdown",
      "metadata": {
        "id": "yc_p5mG3hD1J"
      },
      "source": [
        "Programatic Dictionary"
      ]
    },
    {
      "cell_type": "code",
      "metadata": {
        "id": "mH8fMsdehC2a"
      },
      "source": [
        "mydict = dict(one=1)"
      ],
      "execution_count": 1,
      "outputs": []
    },
    {
      "cell_type": "code",
      "metadata": {
        "id": "v4q6Kx_xhJ9v"
      },
      "source": [
        ""
      ],
      "execution_count": null,
      "outputs": []
    },
    {
      "cell_type": "markdown",
      "metadata": {
        "id": "hsK8CWAGhp9d"
      },
      "source": [
        "How could I input a CSV into a function"
      ]
    },
    {
      "cell_type": "code",
      "metadata": {
        "id": "ZRybTbBqhsEw",
        "outputId": "d7afb8f1-cceb-49d1-d7a0-71dad74e000e",
        "colab": {
          "base_uri": "https://localhost:8080/",
          "height": 317
        }
      },
      "source": [
        "import pandas as pd\n",
        "csv_url = 'https://raw.githubusercontent.com/noahgift/mma/master/data/ufc_fights_all.csv'\n",
        "mma_df = pd.read_csv(csv_url)\n",
        "mma_df.tail(3)"
      ],
      "execution_count": 2,
      "outputs": [
        {
          "output_type": "execute_result",
          "data": {
            "text/html": [
              "<div>\n",
              "<style scoped>\n",
              "    .dataframe tbody tr th:only-of-type {\n",
              "        vertical-align: middle;\n",
              "    }\n",
              "\n",
              "    .dataframe tbody tr th {\n",
              "        vertical-align: top;\n",
              "    }\n",
              "\n",
              "    .dataframe thead th {\n",
              "        text-align: right;\n",
              "    }\n",
              "</style>\n",
              "<table border=\"1\" class=\"dataframe\">\n",
              "  <thead>\n",
              "    <tr style=\"text-align: right;\">\n",
              "      <th></th>\n",
              "      <th>pageurl</th>\n",
              "      <th>eid</th>\n",
              "      <th>mid</th>\n",
              "      <th>event_name</th>\n",
              "      <th>event_org</th>\n",
              "      <th>event_date</th>\n",
              "      <th>event_place</th>\n",
              "      <th>f1pageurl</th>\n",
              "      <th>f2pageurl</th>\n",
              "      <th>f1name</th>\n",
              "      <th>f2name</th>\n",
              "      <th>f1result</th>\n",
              "      <th>f2result</th>\n",
              "      <th>f1fid</th>\n",
              "      <th>f2fid</th>\n",
              "      <th>method</th>\n",
              "      <th>method_d</th>\n",
              "      <th>ref</th>\n",
              "      <th>round</th>\n",
              "      <th>time</th>\n",
              "    </tr>\n",
              "  </thead>\n",
              "  <tbody>\n",
              "    <tr>\n",
              "      <th>3566</th>\n",
              "      <td>/events/UFC-Fight-Night-83-Cerrone-vs-Oliveira...</td>\n",
              "      <td>47935</td>\n",
              "      <td>3</td>\n",
              "      <td>UFC Fight Night 83 - Cerrone vs. Oliveira</td>\n",
              "      <td>Ultimate Fighting Championship</td>\n",
              "      <td>2/21/16</td>\n",
              "      <td>Consol Energy Center, Pittsburgh, Pennsylvania...</td>\n",
              "      <td>/fighter/Ashlee-EvansSmith-75021</td>\n",
              "      <td>/fighter/Marion-Reneau-61266</td>\n",
              "      <td>Ashlee Evans-Smith</td>\n",
              "      <td>Marion Reneau</td>\n",
              "      <td>win</td>\n",
              "      <td>loss</td>\n",
              "      <td>75021</td>\n",
              "      <td>61266</td>\n",
              "      <td>Decision</td>\n",
              "      <td>Split</td>\n",
              "      <td>James Chappell</td>\n",
              "      <td>3</td>\n",
              "      <td>5:00</td>\n",
              "    </tr>\n",
              "    <tr>\n",
              "      <th>3567</th>\n",
              "      <td>/events/UFC-Fight-Night-83-Cerrone-vs-Oliveira...</td>\n",
              "      <td>47935</td>\n",
              "      <td>2</td>\n",
              "      <td>UFC Fight Night 83 - Cerrone vs. Oliveira</td>\n",
              "      <td>Ultimate Fighting Championship</td>\n",
              "      <td>2/21/16</td>\n",
              "      <td>Consol Energy Center, Pittsburgh, Pennsylvania...</td>\n",
              "      <td>/fighter/Lauren-Murphy-66725</td>\n",
              "      <td>/fighter/Kelly-Faszholz-117453</td>\n",
              "      <td>Lauren Murphy</td>\n",
              "      <td>Kelly Faszholz</td>\n",
              "      <td>win</td>\n",
              "      <td>loss</td>\n",
              "      <td>66725</td>\n",
              "      <td>117453</td>\n",
              "      <td>TKO</td>\n",
              "      <td>Elbows and Punches</td>\n",
              "      <td>Bill Bookwalter</td>\n",
              "      <td>3</td>\n",
              "      <td>4:55</td>\n",
              "    </tr>\n",
              "    <tr>\n",
              "      <th>3568</th>\n",
              "      <td>/events/UFC-Fight-Night-83-Cerrone-vs-Oliveira...</td>\n",
              "      <td>47935</td>\n",
              "      <td>1</td>\n",
              "      <td>UFC Fight Night 83 - Cerrone vs. Oliveira</td>\n",
              "      <td>Ultimate Fighting Championship</td>\n",
              "      <td>2/21/16</td>\n",
              "      <td>Consol Energy Center, Pittsburgh, Pennsylvania...</td>\n",
              "      <td>/fighter/Shamil-Abdurakhimov-26808</td>\n",
              "      <td>/fighter/Anthony-Hamilton-58947</td>\n",
              "      <td>Shamil Abdurakhimov</td>\n",
              "      <td>Anthony Hamilton</td>\n",
              "      <td>win</td>\n",
              "      <td>loss</td>\n",
              "      <td>26808</td>\n",
              "      <td>58947</td>\n",
              "      <td>Decision</td>\n",
              "      <td>Unanimous</td>\n",
              "      <td>Chip Snider</td>\n",
              "      <td>3</td>\n",
              "      <td>5:00</td>\n",
              "    </tr>\n",
              "  </tbody>\n",
              "</table>\n",
              "</div>"
            ],
            "text/plain": [
              "                                                pageurl    eid  ...  round  time\n",
              "3566  /events/UFC-Fight-Night-83-Cerrone-vs-Oliveira...  47935  ...      3  5:00\n",
              "3567  /events/UFC-Fight-Night-83-Cerrone-vs-Oliveira...  47935  ...      3  4:55\n",
              "3568  /events/UFC-Fight-Night-83-Cerrone-vs-Oliveira...  47935  ...      3  5:00\n",
              "\n",
              "[3 rows x 20 columns]"
            ]
          },
          "metadata": {},
          "execution_count": 2
        }
      ]
    },
    {
      "cell_type": "code",
      "metadata": {
        "id": "e3qRqCnCiJmH"
      },
      "source": [
        "def csv_to_df(url):\n",
        "    \"\"\"This is a function that converts a CSV file from the web\n",
        "    into a Pandas DF\"\"\"\n",
        "\n",
        "    import pandas as pd\n",
        "    df = pd.read_csv(url)\n",
        "    return df\n"
      ],
      "execution_count": 3,
      "outputs": []
    },
    {
      "cell_type": "code",
      "metadata": {
        "id": "5MU5FTvkier3"
      },
      "source": [
        "my_url = \"https://raw.githubusercontent.com/noahgift/mma/master/data/ufc_fights_all.csv\""
      ],
      "execution_count": 4,
      "outputs": []
    },
    {
      "cell_type": "code",
      "metadata": {
        "id": "STRUKd2qijNm"
      },
      "source": [
        "my_df = csv_to_df(my_url)"
      ],
      "execution_count": 5,
      "outputs": []
    },
    {
      "cell_type": "code",
      "metadata": {
        "id": "1XU-rxUlimIM",
        "outputId": "26dfa20e-d538-4ac2-9710-0d68ce7c203d",
        "colab": {
          "base_uri": "https://localhost:8080/",
          "height": 568
        }
      },
      "source": [
        "my_df.head()"
      ],
      "execution_count": 6,
      "outputs": [
        {
          "output_type": "execute_result",
          "data": {
            "text/html": [
              "<div>\n",
              "<style scoped>\n",
              "    .dataframe tbody tr th:only-of-type {\n",
              "        vertical-align: middle;\n",
              "    }\n",
              "\n",
              "    .dataframe tbody tr th {\n",
              "        vertical-align: top;\n",
              "    }\n",
              "\n",
              "    .dataframe thead th {\n",
              "        text-align: right;\n",
              "    }\n",
              "</style>\n",
              "<table border=\"1\" class=\"dataframe\">\n",
              "  <thead>\n",
              "    <tr style=\"text-align: right;\">\n",
              "      <th></th>\n",
              "      <th>pageurl</th>\n",
              "      <th>eid</th>\n",
              "      <th>mid</th>\n",
              "      <th>event_name</th>\n",
              "      <th>event_org</th>\n",
              "      <th>event_date</th>\n",
              "      <th>event_place</th>\n",
              "      <th>f1pageurl</th>\n",
              "      <th>f2pageurl</th>\n",
              "      <th>f1name</th>\n",
              "      <th>f2name</th>\n",
              "      <th>f1result</th>\n",
              "      <th>f2result</th>\n",
              "      <th>f1fid</th>\n",
              "      <th>f2fid</th>\n",
              "      <th>method</th>\n",
              "      <th>method_d</th>\n",
              "      <th>ref</th>\n",
              "      <th>round</th>\n",
              "      <th>time</th>\n",
              "    </tr>\n",
              "  </thead>\n",
              "  <tbody>\n",
              "    <tr>\n",
              "      <th>0</th>\n",
              "      <td>/events/UFC-1-The-Beginning-7</td>\n",
              "      <td>7</td>\n",
              "      <td>8</td>\n",
              "      <td>UFC 1 - The Beginning</td>\n",
              "      <td>Ultimate Fighting Championship</td>\n",
              "      <td>11/12/93</td>\n",
              "      <td>McNichols Arena, Denver, Colorado, United States</td>\n",
              "      <td>/fighter/Royce-Gracie-19</td>\n",
              "      <td>/fighter/Gerard-Gordeau-15</td>\n",
              "      <td>Royce Gracie</td>\n",
              "      <td>Gerard Gordeau</td>\n",
              "      <td>win</td>\n",
              "      <td>loss</td>\n",
              "      <td>19</td>\n",
              "      <td>15</td>\n",
              "      <td>Submission</td>\n",
              "      <td>Rear-Naked Choke</td>\n",
              "      <td>Helio Vigio</td>\n",
              "      <td>1</td>\n",
              "      <td>1:44</td>\n",
              "    </tr>\n",
              "    <tr>\n",
              "      <th>1</th>\n",
              "      <td>/events/UFC-1-The-Beginning-7</td>\n",
              "      <td>7</td>\n",
              "      <td>7</td>\n",
              "      <td>UFC 1 - The Beginning</td>\n",
              "      <td>Ultimate Fighting Championship</td>\n",
              "      <td>11/12/93</td>\n",
              "      <td>McNichols Arena, Denver, Colorado, United States</td>\n",
              "      <td>/fighter/Jason-DeLucia-22</td>\n",
              "      <td>/fighter/Trent-Jenkins-23</td>\n",
              "      <td>Jason DeLucia</td>\n",
              "      <td>Trent Jenkins</td>\n",
              "      <td>win</td>\n",
              "      <td>loss</td>\n",
              "      <td>22</td>\n",
              "      <td>23</td>\n",
              "      <td>Submission</td>\n",
              "      <td>Rear-Naked Choke</td>\n",
              "      <td>Joao Alberto Barreto</td>\n",
              "      <td>1</td>\n",
              "      <td>0:52</td>\n",
              "    </tr>\n",
              "    <tr>\n",
              "      <th>2</th>\n",
              "      <td>/events/UFC-1-The-Beginning-7</td>\n",
              "      <td>7</td>\n",
              "      <td>6</td>\n",
              "      <td>UFC 1 - The Beginning</td>\n",
              "      <td>Ultimate Fighting Championship</td>\n",
              "      <td>11/12/93</td>\n",
              "      <td>McNichols Arena, Denver, Colorado, United States</td>\n",
              "      <td>/fighter/Royce-Gracie-19</td>\n",
              "      <td>/fighter/Ken-Shamrock-4</td>\n",
              "      <td>Royce Gracie</td>\n",
              "      <td>Ken Shamrock</td>\n",
              "      <td>win</td>\n",
              "      <td>loss</td>\n",
              "      <td>19</td>\n",
              "      <td>4</td>\n",
              "      <td>Submission</td>\n",
              "      <td>Rear-Naked Choke</td>\n",
              "      <td>Helio Vigio</td>\n",
              "      <td>1</td>\n",
              "      <td>0:57</td>\n",
              "    </tr>\n",
              "    <tr>\n",
              "      <th>3</th>\n",
              "      <td>/events/UFC-1-The-Beginning-7</td>\n",
              "      <td>7</td>\n",
              "      <td>5</td>\n",
              "      <td>UFC 1 - The Beginning</td>\n",
              "      <td>Ultimate Fighting Championship</td>\n",
              "      <td>11/12/93</td>\n",
              "      <td>McNichols Arena, Denver, Colorado, United States</td>\n",
              "      <td>/fighter/Gerard-Gordeau-15</td>\n",
              "      <td>/fighter/Kevin-Rosier-17</td>\n",
              "      <td>Gerard Gordeau</td>\n",
              "      <td>Kevin Rosier</td>\n",
              "      <td>win</td>\n",
              "      <td>loss</td>\n",
              "      <td>15</td>\n",
              "      <td>17</td>\n",
              "      <td>TKO</td>\n",
              "      <td>Corner Stoppage</td>\n",
              "      <td>Joao Alberto Barreto</td>\n",
              "      <td>1</td>\n",
              "      <td>0:59</td>\n",
              "    </tr>\n",
              "    <tr>\n",
              "      <th>4</th>\n",
              "      <td>/events/UFC-1-The-Beginning-7</td>\n",
              "      <td>7</td>\n",
              "      <td>4</td>\n",
              "      <td>UFC 1 - The Beginning</td>\n",
              "      <td>Ultimate Fighting Championship</td>\n",
              "      <td>11/12/93</td>\n",
              "      <td>McNichols Arena, Denver, Colorado, United States</td>\n",
              "      <td>/fighter/Ken-Shamrock-4</td>\n",
              "      <td>/fighter/Patrick-Smith-21</td>\n",
              "      <td>Ken Shamrock</td>\n",
              "      <td>Patrick Smith</td>\n",
              "      <td>win</td>\n",
              "      <td>loss</td>\n",
              "      <td>4</td>\n",
              "      <td>21</td>\n",
              "      <td>Submission</td>\n",
              "      <td>Heel Hook</td>\n",
              "      <td>Helio Vigio</td>\n",
              "      <td>1</td>\n",
              "      <td>1:49</td>\n",
              "    </tr>\n",
              "  </tbody>\n",
              "</table>\n",
              "</div>"
            ],
            "text/plain": [
              "                         pageurl  eid  mid  ...                   ref round  time\n",
              "0  /events/UFC-1-The-Beginning-7    7    8  ...           Helio Vigio     1  1:44\n",
              "1  /events/UFC-1-The-Beginning-7    7    7  ...  Joao Alberto Barreto     1  0:52\n",
              "2  /events/UFC-1-The-Beginning-7    7    6  ...           Helio Vigio     1  0:57\n",
              "3  /events/UFC-1-The-Beginning-7    7    5  ...  Joao Alberto Barreto     1  0:59\n",
              "4  /events/UFC-1-The-Beginning-7    7    4  ...           Helio Vigio     1  1:49\n",
              "\n",
              "[5 rows x 20 columns]"
            ]
          },
          "metadata": {},
          "execution_count": 6
        }
      ]
    },
    {
      "cell_type": "code",
      "metadata": {
        "id": "kpNoH4DwinI8"
      },
      "source": [
        "iris_url = \"https://raw.githubusercontent.com/mwaskom/seaborn-data/master/iris.csv\""
      ],
      "execution_count": 7,
      "outputs": []
    },
    {
      "cell_type": "code",
      "metadata": {
        "id": "giQCEL_Ki0hR"
      },
      "source": [
        "iris_df = csv_to_df(iris_url)"
      ],
      "execution_count": 8,
      "outputs": []
    },
    {
      "cell_type": "code",
      "metadata": {
        "id": "U6H-qp1mi5Dp",
        "outputId": "aa8c3db7-9c8a-4e30-a359-456adf8450be",
        "colab": {
          "base_uri": "https://localhost:8080/",
          "height": 205
        }
      },
      "source": [
        "iris_df.head()"
      ],
      "execution_count": 9,
      "outputs": [
        {
          "output_type": "execute_result",
          "data": {
            "text/html": [
              "<div>\n",
              "<style scoped>\n",
              "    .dataframe tbody tr th:only-of-type {\n",
              "        vertical-align: middle;\n",
              "    }\n",
              "\n",
              "    .dataframe tbody tr th {\n",
              "        vertical-align: top;\n",
              "    }\n",
              "\n",
              "    .dataframe thead th {\n",
              "        text-align: right;\n",
              "    }\n",
              "</style>\n",
              "<table border=\"1\" class=\"dataframe\">\n",
              "  <thead>\n",
              "    <tr style=\"text-align: right;\">\n",
              "      <th></th>\n",
              "      <th>sepal_length</th>\n",
              "      <th>sepal_width</th>\n",
              "      <th>petal_length</th>\n",
              "      <th>petal_width</th>\n",
              "      <th>species</th>\n",
              "    </tr>\n",
              "  </thead>\n",
              "  <tbody>\n",
              "    <tr>\n",
              "      <th>0</th>\n",
              "      <td>5.1</td>\n",
              "      <td>3.5</td>\n",
              "      <td>1.4</td>\n",
              "      <td>0.2</td>\n",
              "      <td>setosa</td>\n",
              "    </tr>\n",
              "    <tr>\n",
              "      <th>1</th>\n",
              "      <td>4.9</td>\n",
              "      <td>3.0</td>\n",
              "      <td>1.4</td>\n",
              "      <td>0.2</td>\n",
              "      <td>setosa</td>\n",
              "    </tr>\n",
              "    <tr>\n",
              "      <th>2</th>\n",
              "      <td>4.7</td>\n",
              "      <td>3.2</td>\n",
              "      <td>1.3</td>\n",
              "      <td>0.2</td>\n",
              "      <td>setosa</td>\n",
              "    </tr>\n",
              "    <tr>\n",
              "      <th>3</th>\n",
              "      <td>4.6</td>\n",
              "      <td>3.1</td>\n",
              "      <td>1.5</td>\n",
              "      <td>0.2</td>\n",
              "      <td>setosa</td>\n",
              "    </tr>\n",
              "    <tr>\n",
              "      <th>4</th>\n",
              "      <td>5.0</td>\n",
              "      <td>3.6</td>\n",
              "      <td>1.4</td>\n",
              "      <td>0.2</td>\n",
              "      <td>setosa</td>\n",
              "    </tr>\n",
              "  </tbody>\n",
              "</table>\n",
              "</div>"
            ],
            "text/plain": [
              "   sepal_length  sepal_width  petal_length  petal_width species\n",
              "0           5.1          3.5           1.4          0.2  setosa\n",
              "1           4.9          3.0           1.4          0.2  setosa\n",
              "2           4.7          3.2           1.3          0.2  setosa\n",
              "3           4.6          3.1           1.5          0.2  setosa\n",
              "4           5.0          3.6           1.4          0.2  setosa"
            ]
          },
          "metadata": {},
          "execution_count": 9
        }
      ]
    },
    {
      "cell_type": "code",
      "metadata": {
        "id": "5VL0jkwji6IX"
      },
      "source": [
        ""
      ],
      "execution_count": null,
      "outputs": []
    },
    {
      "cell_type": "markdown",
      "metadata": {
        "id": "wTkgGcI8jB3m"
      },
      "source": [
        "Why import random?"
      ]
    },
    {
      "cell_type": "code",
      "metadata": {
        "id": "LhiLDriFjDEN"
      },
      "source": [
        "import random"
      ],
      "execution_count": 10,
      "outputs": []
    },
    {
      "cell_type": "code",
      "metadata": {
        "id": "EbDsOGWljFcV"
      },
      "source": [
        "l = [1,40, 34, 50]"
      ],
      "execution_count": 11,
      "outputs": []
    },
    {
      "cell_type": "code",
      "metadata": {
        "id": "PcC_mq1gjKGT",
        "outputId": "e70661f4-8a26-4db7-8e7a-8ec86adadeca",
        "colab": {
          "base_uri": "https://localhost:8080/"
        }
      },
      "source": [
        "random.choices(l)"
      ],
      "execution_count": 12,
      "outputs": [
        {
          "output_type": "execute_result",
          "data": {
            "text/plain": [
              "[40]"
            ]
          },
          "metadata": {},
          "execution_count": 12
        }
      ]
    },
    {
      "cell_type": "code",
      "metadata": {
        "id": "gXqerKy4jNeT",
        "outputId": "c21374de-3a45-4a6a-f504-07a02cb1467a",
        "colab": {
          "base_uri": "https://localhost:8080/"
        }
      },
      "source": [
        "random.choices(l)"
      ],
      "execution_count": 13,
      "outputs": [
        {
          "output_type": "execute_result",
          "data": {
            "text/plain": [
              "[1]"
            ]
          },
          "metadata": {},
          "execution_count": 13
        }
      ]
    },
    {
      "cell_type": "code",
      "metadata": {
        "id": "Bj4qw7zsjO16",
        "outputId": "ae205420-abb7-4e1c-8992-e55dcd1290e8",
        "colab": {
          "base_uri": "https://localhost:8080/"
        }
      },
      "source": [
        "random.choices(l)"
      ],
      "execution_count": 14,
      "outputs": [
        {
          "output_type": "execute_result",
          "data": {
            "text/plain": [
              "[40]"
            ]
          },
          "metadata": {},
          "execution_count": 14
        }
      ]
    },
    {
      "cell_type": "code",
      "metadata": {
        "id": "mgihVNgcjPcq",
        "outputId": "4eae086d-7abf-4eab-d600-8f0d06242307",
        "colab": {
          "base_uri": "https://localhost:8080/"
        }
      },
      "source": [
        "random.choices(l)"
      ],
      "execution_count": 15,
      "outputs": [
        {
          "output_type": "execute_result",
          "data": {
            "text/plain": [
              "[40]"
            ]
          },
          "metadata": {},
          "execution_count": 15
        }
      ]
    },
    {
      "cell_type": "code",
      "metadata": {
        "id": "XFQAQhyQjQJy",
        "outputId": "e49f8936-9dca-4958-d635-84c92ac43876",
        "colab": {
          "base_uri": "https://localhost:8080/"
        }
      },
      "source": [
        "random.choices(l)"
      ],
      "execution_count": 16,
      "outputs": [
        {
          "output_type": "execute_result",
          "data": {
            "text/plain": [
              "[1]"
            ]
          },
          "metadata": {},
          "execution_count": 16
        }
      ]
    },
    {
      "cell_type": "code",
      "metadata": {
        "id": "KMOZr67UjQ_D"
      },
      "source": [
        ""
      ],
      "execution_count": null,
      "outputs": []
    },
    {
      "cell_type": "markdown",
      "metadata": {
        "id": "F9j8DE0qjcrB"
      },
      "source": [
        "How do I run cell? (also hold shift and press return)"
      ]
    },
    {
      "cell_type": "code",
      "metadata": {
        "id": "I-ykeNFyjd89",
        "outputId": "c7653748-1f04-4ca9-af2f-feb4057fcfac",
        "colab": {
          "base_uri": "https://localhost:8080/"
        }
      },
      "source": [
        "1+1"
      ],
      "execution_count": 18,
      "outputs": [
        {
          "output_type": "execute_result",
          "data": {
            "text/plain": [
              "2"
            ]
          },
          "metadata": {},
          "execution_count": 18
        }
      ]
    },
    {
      "cell_type": "code",
      "metadata": {
        "id": "DRJu5DsWjlTl"
      },
      "source": [
        ""
      ],
      "execution_count": null,
      "outputs": []
    },
    {
      "cell_type": "markdown",
      "metadata": {
        "id": "_3q59l0DkqxQ"
      },
      "source": [
        "What is difference between procedural and functional"
      ]
    },
    {
      "cell_type": "code",
      "metadata": {
        "id": "de616FFNkti8"
      },
      "source": [
        ""
      ],
      "execution_count": null,
      "outputs": []
    },
    {
      "cell_type": "markdown",
      "metadata": {
        "id": "NaSzmmLQk-DK"
      },
      "source": [
        "Data manipulation in Python"
      ]
    },
    {
      "cell_type": "markdown",
      "metadata": {
        "id": "_IKL_XYMlBhX"
      },
      "source": [
        "* Pandas is good for CSV type data\n",
        "* YAML use Python\n",
        "* file handler handler\n",
        "* sqlalchemy for databases\n",
        "* scrapy is a good for scraping\n",
        "\n",
        "Many examples here:  https://github.com/noahgift/functional_intro_to_python\n",
        "\n"
      ]
    },
    {
      "cell_type": "code",
      "metadata": {
        "id": "V9cfHOjZlAqM"
      },
      "source": [
        ""
      ],
      "execution_count": 18,
      "outputs": []
    },
    {
      "cell_type": "markdown",
      "metadata": {
        "id": "31eEejZKlea9"
      },
      "source": [
        "What does yield do?"
      ]
    },
    {
      "cell_type": "code",
      "metadata": {
        "id": "spCfWGt-lgQb"
      },
      "source": [
        "ll = [1,5,10, 40]"
      ],
      "execution_count": 19,
      "outputs": []
    },
    {
      "cell_type": "code",
      "metadata": {
        "id": "G2YxfLWIli8j"
      },
      "source": [
        "def process_list(newlist):\n",
        "    for l in ll:\n",
        "        print(l)\n",
        "    return True"
      ],
      "execution_count": 20,
      "outputs": []
    },
    {
      "cell_type": "code",
      "metadata": {
        "id": "1o-TnVillwff",
        "outputId": "a7f234f6-2ed3-41c7-b19f-96e25dc862ea",
        "colab": {
          "base_uri": "https://localhost:8080/"
        }
      },
      "source": [
        "process_list(ll)"
      ],
      "execution_count": 21,
      "outputs": [
        {
          "output_type": "stream",
          "name": "stdout",
          "text": [
            "1\n",
            "5\n",
            "10\n",
            "40\n"
          ]
        },
        {
          "output_type": "execute_result",
          "data": {
            "text/plain": [
              "True"
            ]
          },
          "metadata": {},
          "execution_count": 21
        }
      ]
    },
    {
      "cell_type": "code",
      "metadata": {
        "id": "xnQuhH0glx-A"
      },
      "source": [
        "def lazy_process_list(newlist):\n",
        "    for l in ll:\n",
        "        print(f\"Processing list val: {l}\")\n",
        "        yield l"
      ],
      "execution_count": 26,
      "outputs": []
    },
    {
      "cell_type": "code",
      "metadata": {
        "id": "k6Nv_5zUl6Tl"
      },
      "source": [
        "myprocess = lazy_process_list(ll)"
      ],
      "execution_count": 27,
      "outputs": []
    },
    {
      "cell_type": "code",
      "metadata": {
        "id": "_Sm8EUvJl9dN",
        "outputId": "3098c44f-7818-4186-8c18-8bcaa0a75c51",
        "colab": {
          "base_uri": "https://localhost:8080/"
        }
      },
      "source": [
        "next(myprocess)"
      ],
      "execution_count": 28,
      "outputs": [
        {
          "output_type": "stream",
          "name": "stdout",
          "text": [
            "Processing list val: 1\n"
          ]
        },
        {
          "output_type": "execute_result",
          "data": {
            "text/plain": [
              "1"
            ]
          },
          "metadata": {},
          "execution_count": 28
        }
      ]
    },
    {
      "cell_type": "code",
      "metadata": {
        "id": "ETAX9z3Sl_Id",
        "outputId": "88e4ea20-964e-44bf-c5e3-49fd04a283e3",
        "colab": {
          "base_uri": "https://localhost:8080/"
        }
      },
      "source": [
        "next(myprocess)"
      ],
      "execution_count": 29,
      "outputs": [
        {
          "output_type": "stream",
          "name": "stdout",
          "text": [
            "Processing list val: 5\n"
          ]
        },
        {
          "output_type": "execute_result",
          "data": {
            "text/plain": [
              "5"
            ]
          },
          "metadata": {},
          "execution_count": 29
        }
      ]
    },
    {
      "cell_type": "code",
      "metadata": {
        "id": "Zd-e8zFzmIpy"
      },
      "source": [
        ""
      ],
      "execution_count": null,
      "outputs": []
    }
  ]
}