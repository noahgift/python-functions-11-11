{
  "nbformat": 4,
  "nbformat_minor": 0,
  "metadata": {
    "colab": {
      "name": "functions.ipynb",
      "provenance": [],
      "authorship_tag": "ABX9TyPfmi214z46Jeb+Z+kmAbth",
      "include_colab_link": true
    },
    "kernelspec": {
      "name": "python3",
      "display_name": "Python 3"
    },
    "language_info": {
      "name": "python"
    }
  },
  "cells": [
    {
      "cell_type": "markdown",
      "metadata": {
        "id": "view-in-github",
        "colab_type": "text"
      },
      "source": [
        "<a href=\"https://colab.research.google.com/github/noahgift/python-functions-11-11/blob/main/functions.ipynb\" target=\"_parent\"><img src=\"https://colab.research.google.com/assets/colab-badge.svg\" alt=\"Open In Colab\"/></a>"
      ]
    },
    {
      "cell_type": "markdown",
      "metadata": {
        "id": "lTwVoVoWTzuY"
      },
      "source": [
        "## Getting started with Functions"
      ]
    },
    {
      "cell_type": "code",
      "metadata": {
        "id": "Si6Rd6AQTwvZ"
      },
      "source": [
        "var = 1"
      ],
      "execution_count": 1,
      "outputs": []
    },
    {
      "cell_type": "code",
      "metadata": {
        "id": "6GAPkIrmT7ml"
      },
      "source": [
        "def simple_function(): pass"
      ],
      "execution_count": 2,
      "outputs": []
    },
    {
      "cell_type": "code",
      "metadata": {
        "id": "EVX9wNIUUDYr"
      },
      "source": [
        "def simple_function2():\n",
        "    return 1"
      ],
      "execution_count": 3,
      "outputs": []
    },
    {
      "cell_type": "code",
      "metadata": {
        "colab": {
          "base_uri": "https://localhost:8080/"
        },
        "id": "r5LVt0ZqUJLc",
        "outputId": "4e531b78-cec2-4bb5-da29-2adef59f538a"
      },
      "source": [
        "simple_function2()"
      ],
      "execution_count": 4,
      "outputs": [
        {
          "output_type": "execute_result",
          "data": {
            "text/plain": [
              "1"
            ]
          },
          "metadata": {},
          "execution_count": 4
        }
      ]
    },
    {
      "cell_type": "markdown",
      "metadata": {
        "id": "rcNAFY6FUQmj"
      },
      "source": [
        "Put things into the function"
      ]
    },
    {
      "cell_type": "code",
      "metadata": {
        "id": "Rz14gFNTUMTi"
      },
      "source": [
        "def add(x,y):\n",
        "    return x+y"
      ],
      "execution_count": 5,
      "outputs": []
    },
    {
      "cell_type": "code",
      "metadata": {
        "colab": {
          "base_uri": "https://localhost:8080/"
        },
        "id": "CKd96UyFUaZW",
        "outputId": "d6d35c49-ea90-4a1b-e252-0ec067abfcbe"
      },
      "source": [
        "add(1,1)"
      ],
      "execution_count": 6,
      "outputs": [
        {
          "output_type": "execute_result",
          "data": {
            "text/plain": [
              "2"
            ]
          },
          "metadata": {},
          "execution_count": 6
        }
      ]
    },
    {
      "cell_type": "code",
      "metadata": {
        "colab": {
          "base_uri": "https://localhost:8080/"
        },
        "id": "-0QVquTJUbad",
        "outputId": "e1a040bf-3012-492e-b34d-3c77bdc0af0a"
      },
      "source": [
        "add(2,2)"
      ],
      "execution_count": 7,
      "outputs": [
        {
          "output_type": "execute_result",
          "data": {
            "text/plain": [
              "4"
            ]
          },
          "metadata": {},
          "execution_count": 7
        }
      ]
    },
    {
      "cell_type": "code",
      "metadata": {
        "id": "uXOtg_kLU0Wv"
      },
      "source": [
        "foods = [\"apple\", \"eggs\", \"butter\"]"
      ],
      "execution_count": 9,
      "outputs": []
    },
    {
      "cell_type": "code",
      "metadata": {
        "id": "wUbh8NbPUgIM"
      },
      "source": [
        "def complicated_function(my_food):\n",
        "    \n",
        "    total = len(my_food)\n",
        "    print(f\"I am very hungry and I am ready to eat: {total} foods!\")\n",
        "    for food in my_food:\n",
        "        print(f\"I love to wake up and eat: {food}\")\n",
        "        \n",
        "    "
      ],
      "execution_count": 10,
      "outputs": []
    },
    {
      "cell_type": "code",
      "metadata": {
        "colab": {
          "base_uri": "https://localhost:8080/"
        },
        "id": "d6mCJRCtUzaw",
        "outputId": "ab08ea8e-fcea-403e-c1c1-4f3e41cd9091"
      },
      "source": [
        "complicated_function(foods)"
      ],
      "execution_count": 11,
      "outputs": [
        {
          "output_type": "stream",
          "name": "stdout",
          "text": [
            "I am very hungry and I am ready to eat: 3 foods!\n",
            "I love to wake up and eat: apple\n",
            "I love to wake up and eat: eggs\n",
            "I love to wake up and eat: butter\n"
          ]
        }
      ]
    },
    {
      "cell_type": "code",
      "metadata": {
        "colab": {
          "base_uri": "https://localhost:8080/"
        },
        "id": "iYeyTe9TVWYI",
        "outputId": "35ad2875-ddb4-4bc8-b120-1172ec6731df"
      },
      "source": [
        "complicated_function([\"steak\", \"ham\", \"bacon\"])"
      ],
      "execution_count": 12,
      "outputs": [
        {
          "output_type": "stream",
          "name": "stdout",
          "text": [
            "I am very hungry and I am ready to eat: 3 foods!\n",
            "I love to wake up and eat: steak\n",
            "I love to wake up and eat: ham\n",
            "I love to wake up and eat: bacon\n"
          ]
        }
      ]
    },
    {
      "cell_type": "code",
      "metadata": {
        "id": "lWJsr7iCVhcd"
      },
      "source": [
        ""
      ],
      "execution_count": null,
      "outputs": []
    }
  ]
}