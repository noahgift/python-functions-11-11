{
  "nbformat": 4,
  "nbformat_minor": 0,
  "metadata": {
    "colab": {
      "name": "functions.ipynb",
      "provenance": [],
      "authorship_tag": "ABX9TyOIPVPe/ZUrPcxZxcS4YYHG",
      "include_colab_link": true
    },
    "kernelspec": {
      "name": "python3",
      "display_name": "Python 3"
    },
    "language_info": {
      "name": "python"
    }
  },
  "cells": [
    {
      "cell_type": "markdown",
      "metadata": {
        "id": "view-in-github",
        "colab_type": "text"
      },
      "source": [
        "<a href=\"https://colab.research.google.com/github/noahgift/python-functions-11-11/blob/main/functions.ipynb\" target=\"_parent\"><img src=\"https://colab.research.google.com/assets/colab-badge.svg\" alt=\"Open In Colab\"/></a>"
      ]
    },
    {
      "cell_type": "markdown",
      "metadata": {
        "id": "lTwVoVoWTzuY"
      },
      "source": [
        "## Getting started with Functions"
      ]
    },
    {
      "cell_type": "markdown",
      "metadata": {
        "id": "YcPMEf6WXQza"
      },
      "source": [
        "![functions](https://user-images.githubusercontent.com/58792/141313343-6c8cd0f0-b6b0-4e36-87d1-4ff98543d993.png)"
      ]
    },
    {
      "cell_type": "code",
      "metadata": {
        "id": "Si6Rd6AQTwvZ"
      },
      "source": [
        "var = 1"
      ],
      "execution_count": 1,
      "outputs": []
    },
    {
      "cell_type": "code",
      "metadata": {
        "id": "6GAPkIrmT7ml"
      },
      "source": [
        "def simple_function(): pass"
      ],
      "execution_count": 2,
      "outputs": []
    },
    {
      "cell_type": "code",
      "metadata": {
        "id": "EVX9wNIUUDYr"
      },
      "source": [
        "def simple_function2():\n",
        "    return 1"
      ],
      "execution_count": 3,
      "outputs": []
    },
    {
      "cell_type": "code",
      "metadata": {
        "colab": {
          "base_uri": "https://localhost:8080/"
        },
        "id": "r5LVt0ZqUJLc",
        "outputId": "4e531b78-cec2-4bb5-da29-2adef59f538a"
      },
      "source": [
        "simple_function2()"
      ],
      "execution_count": 4,
      "outputs": [
        {
          "output_type": "execute_result",
          "data": {
            "text/plain": [
              "1"
            ]
          },
          "metadata": {},
          "execution_count": 4
        }
      ]
    },
    {
      "cell_type": "markdown",
      "metadata": {
        "id": "rcNAFY6FUQmj"
      },
      "source": [
        "Put things into the function"
      ]
    },
    {
      "cell_type": "code",
      "metadata": {
        "id": "Rz14gFNTUMTi"
      },
      "source": [
        "def add(x,y):\n",
        "    return x+y"
      ],
      "execution_count": 5,
      "outputs": []
    },
    {
      "cell_type": "code",
      "metadata": {
        "colab": {
          "base_uri": "https://localhost:8080/"
        },
        "id": "CKd96UyFUaZW",
        "outputId": "d6d35c49-ea90-4a1b-e252-0ec067abfcbe"
      },
      "source": [
        "add(1,1)"
      ],
      "execution_count": 6,
      "outputs": [
        {
          "output_type": "execute_result",
          "data": {
            "text/plain": [
              "2"
            ]
          },
          "metadata": {},
          "execution_count": 6
        }
      ]
    },
    {
      "cell_type": "code",
      "metadata": {
        "colab": {
          "base_uri": "https://localhost:8080/"
        },
        "id": "-0QVquTJUbad",
        "outputId": "e1a040bf-3012-492e-b34d-3c77bdc0af0a"
      },
      "source": [
        "add(2,2)"
      ],
      "execution_count": 7,
      "outputs": [
        {
          "output_type": "execute_result",
          "data": {
            "text/plain": [
              "4"
            ]
          },
          "metadata": {},
          "execution_count": 7
        }
      ]
    },
    {
      "cell_type": "code",
      "metadata": {
        "id": "uXOtg_kLU0Wv"
      },
      "source": [
        "foods = [\"apple\", \"eggs\", \"butter\"]"
      ],
      "execution_count": 9,
      "outputs": []
    },
    {
      "cell_type": "code",
      "metadata": {
        "id": "wUbh8NbPUgIM"
      },
      "source": [
        "def complicated_function(my_food):\n",
        "    \n",
        "    total = len(my_food)\n",
        "    print(f\"I am very hungry and I am ready to eat: {total} foods!\")\n",
        "    for food in my_food:\n",
        "        print(f\"I love to wake up and eat: {food}\")\n",
        "        \n",
        "    "
      ],
      "execution_count": 10,
      "outputs": []
    },
    {
      "cell_type": "code",
      "metadata": {
        "colab": {
          "base_uri": "https://localhost:8080/"
        },
        "id": "d6mCJRCtUzaw",
        "outputId": "ab08ea8e-fcea-403e-c1c1-4f3e41cd9091"
      },
      "source": [
        "complicated_function(foods)"
      ],
      "execution_count": 11,
      "outputs": [
        {
          "output_type": "stream",
          "name": "stdout",
          "text": [
            "I am very hungry and I am ready to eat: 3 foods!\n",
            "I love to wake up and eat: apple\n",
            "I love to wake up and eat: eggs\n",
            "I love to wake up and eat: butter\n"
          ]
        }
      ]
    },
    {
      "cell_type": "code",
      "metadata": {
        "colab": {
          "base_uri": "https://localhost:8080/"
        },
        "id": "iYeyTe9TVWYI",
        "outputId": "35ad2875-ddb4-4bc8-b120-1172ec6731df"
      },
      "source": [
        "complicated_function([\"steak\", \"ham\", \"bacon\"])"
      ],
      "execution_count": 12,
      "outputs": [
        {
          "output_type": "stream",
          "name": "stdout",
          "text": [
            "I am very hungry and I am ready to eat: 3 foods!\n",
            "I love to wake up and eat: steak\n",
            "I love to wake up and eat: ham\n",
            "I love to wake up and eat: bacon\n"
          ]
        }
      ]
    },
    {
      "cell_type": "code",
      "metadata": {
        "id": "lWJsr7iCVhcd"
      },
      "source": [
        ""
      ],
      "execution_count": null,
      "outputs": []
    },
    {
      "cell_type": "markdown",
      "metadata": {
        "id": "7kS1EkbPXWcd"
      },
      "source": [
        "## Exotic items with Python Functions"
      ]
    },
    {
      "cell_type": "code",
      "metadata": {
        "id": "GmCUeeHyXa7H"
      },
      "source": [
        "#nonlocal cannot modify this variable\n",
        "#lower_body_counter=5\n",
        "def attack_counter():\n",
        "    \"\"\"Counts number of attacks on part of body\"\"\"\n",
        "    lower_body_counter = 0\n",
        "    upper_body_counter = 0\n",
        "    #print(lower_body_counter)\n",
        "    def attack_filter(attack):\n",
        "        nonlocal lower_body_counter\n",
        "        nonlocal upper_body_counter\n",
        "        attacks = {\"kimura\": \"upper_body\",\n",
        "           \"straight_ankle_lock\":\"lower_body\", \n",
        "           \"arm_triangle\":\"upper_body\",\n",
        "            \"keylock\": \"upper_body\",\n",
        "            \"knee_bar\": \"lower_body\"}\n",
        "        if attack in attacks:\n",
        "            if attacks[attack] == \"upper_body\":\n",
        "                upper_body_counter +=1\n",
        "            if attacks[attack] == \"lower_body\":\n",
        "                lower_body_counter +=1\n",
        "        print(f\"Upper Body Attacks {upper_body_counter}, Lower Body Attacks {lower_body_counter}\")\n",
        "    return attack_filter"
      ],
      "execution_count": 14,
      "outputs": []
    },
    {
      "cell_type": "code",
      "metadata": {
        "id": "YBs8fRT_XfBY"
      },
      "source": [
        "fight = attack_counter()"
      ],
      "execution_count": 15,
      "outputs": []
    },
    {
      "cell_type": "code",
      "metadata": {
        "colab": {
          "base_uri": "https://localhost:8080/"
        },
        "id": "ZlQFySf4X24h",
        "outputId": "0ba98a17-face-48f3-f079-4c67888f7178"
      },
      "source": [
        "type(fight)"
      ],
      "execution_count": 16,
      "outputs": [
        {
          "output_type": "execute_result",
          "data": {
            "text/plain": [
              "function"
            ]
          },
          "metadata": {},
          "execution_count": 16
        }
      ]
    },
    {
      "cell_type": "code",
      "metadata": {
        "colab": {
          "base_uri": "https://localhost:8080/"
        },
        "id": "YZ35ZVsNX36a",
        "outputId": "16ebc81c-55b3-40e1-c90b-fb50291b13a9"
      },
      "source": [
        "fight(\"kimura\")"
      ],
      "execution_count": 17,
      "outputs": [
        {
          "output_type": "stream",
          "name": "stdout",
          "text": [
            "Upper Body Attacks 1, Lower Body Attacks 0\n"
          ]
        }
      ]
    },
    {
      "cell_type": "code",
      "metadata": {
        "colab": {
          "base_uri": "https://localhost:8080/"
        },
        "id": "SbsMiVhVX8rh",
        "outputId": "fca1add4-f5bb-4d83-97cf-5f0876e958fb"
      },
      "source": [
        "fight(\"kimura\")"
      ],
      "execution_count": 18,
      "outputs": [
        {
          "output_type": "stream",
          "name": "stdout",
          "text": [
            "Upper Body Attacks 2, Lower Body Attacks 0\n"
          ]
        }
      ]
    },
    {
      "cell_type": "code",
      "metadata": {
        "colab": {
          "base_uri": "https://localhost:8080/"
        },
        "id": "SO12fyBMX_9w",
        "outputId": "8e5d071e-fa88-4a67-ddbc-bb4e7a580487"
      },
      "source": [
        "fight(\"knee_bar\")"
      ],
      "execution_count": 19,
      "outputs": [
        {
          "output_type": "stream",
          "name": "stdout",
          "text": [
            "Upper Body Attacks 2, Lower Body Attacks 1\n"
          ]
        }
      ]
    },
    {
      "cell_type": "code",
      "metadata": {
        "id": "7G7tpecDYDG4"
      },
      "source": [
        ""
      ],
      "execution_count": null,
      "outputs": []
    },
    {
      "cell_type": "markdown",
      "metadata": {
        "id": "rnMGKbhsYJRB"
      },
      "source": [
        "### Partial Function"
      ]
    },
    {
      "cell_type": "code",
      "metadata": {
        "colab": {
          "base_uri": "https://localhost:8080/"
        },
        "id": "vI6SVGpnYMPn",
        "outputId": "846bc622-46ee-4f3e-f484-2c1b1e1ae650"
      },
      "source": [
        "from functools import partial\n",
        "\n",
        "def multiple_attacks(attack_one, attack_two):\n",
        "  \"\"\"Performs two attacks\"\"\"\n",
        "  \n",
        "  print(f\"First Attack {attack_one}\")\n",
        "  print(f\"Second Attack {attack_two}\")\n",
        "  \n",
        "attack_this = partial(multiple_attacks, \"kimura\")\n",
        "type(attack_this)"
      ],
      "execution_count": 20,
      "outputs": [
        {
          "output_type": "execute_result",
          "data": {
            "text/plain": [
              "functools.partial"
            ]
          },
          "metadata": {},
          "execution_count": 20
        }
      ]
    },
    {
      "cell_type": "code",
      "metadata": {
        "colab": {
          "base_uri": "https://localhost:8080/",
          "height": 167
        },
        "id": "fXFQAuc0YMtF",
        "outputId": "606bb914-7e53-4280-904d-394c4728eda9"
      },
      "source": [
        "multiple_attacks(\"kimura\")"
      ],
      "execution_count": 21,
      "outputs": [
        {
          "output_type": "error",
          "ename": "TypeError",
          "evalue": "ignored",
          "traceback": [
            "\u001b[0;31m---------------------------------------------------------------------------\u001b[0m",
            "\u001b[0;31mTypeError\u001b[0m                                 Traceback (most recent call last)",
            "\u001b[0;32m<ipython-input-21-88dc4078296b>\u001b[0m in \u001b[0;36m<module>\u001b[0;34m()\u001b[0m\n\u001b[0;32m----> 1\u001b[0;31m \u001b[0mmultiple_attacks\u001b[0m\u001b[0;34m(\u001b[0m\u001b[0;34m\"kimura\"\u001b[0m\u001b[0;34m)\u001b[0m\u001b[0;34m\u001b[0m\u001b[0;34m\u001b[0m\u001b[0m\n\u001b[0m",
            "\u001b[0;31mTypeError\u001b[0m: multiple_attacks() missing 1 required positional argument: 'attack_two'"
          ]
        }
      ]
    },
    {
      "cell_type": "code",
      "metadata": {
        "id": "yuxLvu2kYW9b"
      },
      "source": [
        "attack_this = partial(multiple_attacks, \"kimura\")"
      ],
      "execution_count": 22,
      "outputs": []
    },
    {
      "cell_type": "code",
      "metadata": {
        "colab": {
          "base_uri": "https://localhost:8080/"
        },
        "id": "uFh-D9CeYaRa",
        "outputId": "c6c7807d-4478-4efc-8bf2-3d7b04125052"
      },
      "source": [
        "attack_this(\"arm_bar\")"
      ],
      "execution_count": 23,
      "outputs": [
        {
          "output_type": "stream",
          "name": "stdout",
          "text": [
            "First Attack kimura\n",
            "Second Attack arm_bar\n"
          ]
        }
      ]
    },
    {
      "cell_type": "code",
      "metadata": {
        "id": "6uT1ZX8NYeXK"
      },
      "source": [
        ""
      ],
      "execution_count": null,
      "outputs": []
    },
    {
      "cell_type": "markdown",
      "metadata": {
        "id": "8a0z5nKiYmVt"
      },
      "source": [
        "### Lazy Evaluation"
      ]
    },
    {
      "cell_type": "code",
      "metadata": {
        "id": "zgLswho2Yn8A"
      },
      "source": [
        "huge_list = [1,100,10000]"
      ],
      "execution_count": 24,
      "outputs": []
    },
    {
      "cell_type": "code",
      "metadata": {
        "id": "QqpEvDnyYu78"
      },
      "source": [
        "def process():\n",
        "    for num in huge_list:\n",
        "        yield num"
      ],
      "execution_count": 25,
      "outputs": []
    },
    {
      "cell_type": "code",
      "metadata": {
        "id": "TTELSIZjY1dU"
      },
      "source": [
        "result = process()"
      ],
      "execution_count": 26,
      "outputs": []
    },
    {
      "cell_type": "code",
      "metadata": {
        "colab": {
          "base_uri": "https://localhost:8080/"
        },
        "id": "lt98DWKRY-mh",
        "outputId": "fca3eb21-46bc-4085-842d-068e1676c9ed"
      },
      "source": [
        "type(result)"
      ],
      "execution_count": 27,
      "outputs": [
        {
          "output_type": "execute_result",
          "data": {
            "text/plain": [
              "generator"
            ]
          },
          "metadata": {},
          "execution_count": 27
        }
      ]
    },
    {
      "cell_type": "code",
      "metadata": {
        "colab": {
          "base_uri": "https://localhost:8080/"
        },
        "id": "muL9gPamY_Zx",
        "outputId": "999b9160-8077-411e-da0a-cb48d9265c4a"
      },
      "source": [
        "for _ in range(2):\n",
        "    print(next(result))"
      ],
      "execution_count": 28,
      "outputs": [
        {
          "output_type": "stream",
          "name": "stdout",
          "text": [
            "1\n",
            "100\n"
          ]
        }
      ]
    },
    {
      "cell_type": "code",
      "metadata": {
        "id": "lgAV0ukxZKMf"
      },
      "source": [
        "def lazy_return_random_attacks():\n",
        "    \"\"\"Yield attacks each time\"\"\"\n",
        "    \n",
        "    import random\n",
        "    attacks = {\"kimura\": \"upper_body\",\n",
        "           \"straight_ankle_lock\":\"lower_body\", \n",
        "           \"arm_triangle\":\"upper_body\",\n",
        "            \"keylock\": \"upper_body\",\n",
        "            \"knee_bar\": \"lower_body\"}\n",
        "    while True:\n",
        "        random_attack = random.choices(list(attacks.keys()))\n",
        "        yield random_attack"
      ],
      "execution_count": 29,
      "outputs": []
    },
    {
      "cell_type": "code",
      "metadata": {
        "id": "XoTryX_dZbdT"
      },
      "source": [
        "attack = lazy_return_random_attacks()"
      ],
      "execution_count": 30,
      "outputs": []
    },
    {
      "cell_type": "code",
      "metadata": {
        "colab": {
          "base_uri": "https://localhost:8080/"
        },
        "id": "4LpzpHa6Zdwi",
        "outputId": "a9a21dac-05b4-4939-ce08-d265183105e6"
      },
      "source": [
        "type(attack)"
      ],
      "execution_count": 31,
      "outputs": [
        {
          "output_type": "execute_result",
          "data": {
            "text/plain": [
              "generator"
            ]
          },
          "metadata": {},
          "execution_count": 31
        }
      ]
    },
    {
      "cell_type": "code",
      "metadata": {
        "colab": {
          "base_uri": "https://localhost:8080/"
        },
        "id": "nMSnJO-TZehz",
        "outputId": "c07a9332-9892-4f07-9441-dc3fd98556c0"
      },
      "source": [
        "for _ in range(3):\n",
        "    print(next(attack))"
      ],
      "execution_count": 37,
      "outputs": [
        {
          "output_type": "stream",
          "name": "stdout",
          "text": [
            "['knee_bar']\n",
            "['keylock']\n",
            "['kimura']\n"
          ]
        }
      ]
    },
    {
      "cell_type": "code",
      "metadata": {
        "id": "H9arqtvsZj95"
      },
      "source": [
        ""
      ],
      "execution_count": null,
      "outputs": []
    }
  ]
}